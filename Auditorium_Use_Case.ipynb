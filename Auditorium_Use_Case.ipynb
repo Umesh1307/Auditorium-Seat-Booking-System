{
  "nbformat": 4,
  "nbformat_minor": 0,
  "metadata": {
    "colab": {
      "name": "Auditorium Use Case.ipynb",
      "provenance": [],
      "authorship_tag": "ABX9TyPQVzE8uYQvI76Cq/gwO4/d",
      "include_colab_link": true
    },
    "kernelspec": {
      "name": "python3",
      "display_name": "Python 3"
    },
    "language_info": {
      "name": "python"
    }
  },
  "cells": [
    {
      "cell_type": "markdown",
      "metadata": {
        "id": "view-in-github",
        "colab_type": "text"
      },
      "source": [
        "<a href=\"https://colab.research.google.com/github/Umesh1307/Auditorium-Seat-Booking-System/blob/main/Auditorium_Use_Case.ipynb\" target=\"_parent\"><img src=\"https://colab.research.google.com/assets/colab-badge.svg\" alt=\"Open In Colab\"/></a>"
      ]
    },
    {
      "cell_type": "markdown",
      "source": [
        "\n",
        "\n",
        "---\n",
        "\n",
        "\n",
        "# Problem Statement:\n",
        "\n",
        "---\n",
        "\n",
        "\n",
        "### Imagine an auditorium, there are n rows and m columns, there are some people coming into the auditorium, let's say number of people coming are x, before they enter, they will need ticket, there is a ticket wending machine,imagine there is only one row, if someone is seating, so machine will not print a seat left, right, front, and backward to the seated person, all these four places are reserved, so your job is to write a program, for given x number of people coming, how will you issue tickets.\n",
        "\n",
        "\n",
        "---\n",
        "### constraints:\n",
        "* ###  input row=n\n",
        "\n",
        "* ### number of people=x\n",
        "\n",
        "* ### output format:\n",
        "\n",
        "* ### co-ordinate of ticket location\n",
        "\n",
        "---\n",
        "\n"
      ],
      "metadata": {
        "id": "LT_GaTqzh6Xu"
      }
    },
    {
      "cell_type": "code",
      "source": [
        "x = 25                                                                 # Assuming 25 People are coming into the Auditorium\n",
        "Booked_seat = 0                                                        # Initialize booked seat=0\n",
        "Row = int(input('Enter number of Row - \\n'))                           # Taking input for number of row (which row we want to book a ticket for)\n",
        "Seats = int(input('Enter number of seats in a Row - \\n'))              # Taking input for number of columns (which columns you want to book for)\n",
        "Total_seat = Row*Seats                                                 # Calculating the total number of seat\n",
        "Booked_ticket_Person = [[None for j in range(Seats)] for i in range(Row)] # Creating a list for number of booking\n",
        "\n",
        "class chart:\n",
        "    \"\"\" This class will create chart for booking\"\"\"\n",
        "\n",
        "    @staticmethod                   # Static method is used as They do not require a class instance creation\n",
        "    def chart_maker():\n",
        "        seats_chart = {}\n",
        "        for i in range(Row):\n",
        "            seats_in_row = {}\n",
        "            for j in range(Seats):\n",
        "                seats_in_row[str(j+1)] = 'S'                # Seat that are not booked we are naming them as \"S\"\n",
        "            seats_chart[str(i)] = seats_in_row\n",
        "        return seats_chart\n",
        "\n",
        "class_call = chart\n",
        "table_of_chart = class_call.chart_maker()                           # Storing the key as rows and values as column(seats)\n",
        "\n",
        "while x != 0:\n",
        "    print('1 for Show the seats \\n2 for Buy a Ticket\\n0 for Exit')\n",
        "    x = int(input('Select Option :) '))\n",
        "    if x == 1:\n",
        "        if Seats < 10:\n",
        "            for seat in range(Seats):\n",
        "                print(seat, end='  ')\n",
        "            print(Seats)\n",
        "        else:\n",
        "            for seat in range(10):\n",
        "                print(seat, end='  ')\n",
        "            for seat in range(10, Seats):\n",
        "                print(seat, end=' ')\n",
        "            print(Seats)\n",
        "        if Seats < 10:\n",
        "            for num in table_of_chart.keys():\n",
        "                print(int(num)+1, end='  ')\n",
        "                for no in table_of_chart[num].values():\n",
        "                    print(no, end='  ')\n",
        "                print()\n",
        "        else:\n",
        "            count_num = 0\n",
        "            for num in table_of_chart.keys():\n",
        "                if int(list(table_of_chart.keys())[count_num]) < 9:\n",
        "                    print(int(num)+1, end='  ')\n",
        "                else:\n",
        "                    print(int(num)+1, end=' ')\n",
        "                count_key = 0\n",
        "                for no in table_of_chart[num].values():\n",
        "                    if int(list(table_of_chart[num].keys())[count_key]) <= 10:\n",
        "                        print(no, end='  ')\n",
        "                    else:\n",
        "                        print(no, end='  ')\n",
        "                    count_key += 1\n",
        "                count_num += 1\n",
        "                print()\n",
        "        print('Vacant Seats = ', Total_seat - Booked_seat)\n",
        "        print()                                                                 \n",
        "    \n",
        "    elif x == 2:\n",
        "        Row_number = int(input('Enter Row Number - \\n'))\n",
        "        Column_number = int(input('Enter Column Number - \\n'))\n",
        "        if Row_number in range(1, Row+1) and Column_number in range(1, Seats+1):\n",
        "            if table_of_chart[str(Row_number-1)][str(Column_number)] == 'S':\n",
        "                conform = input('yes for booking and no for Stop booking - ')\n",
        "                person_detail = {}\n",
        "                if conform == 'yes':\n",
        "                    person_detail['Name'] = input('Enter Name - ')              # Here accepting the details of person\n",
        "                    person_detail['Gender'] = input('Enter Gender - ')\n",
        "                    person_detail['Age'] = input('Enter Age - ')\n",
        "                    table_of_chart[str(Row_number-1)][str(Column_number)] = 'B' # After successful booking updating the table of chart, booked seat naming them as \"B\"\n",
        "                    Booked_seat += 1\n",
        "                else:\n",
        "                    continue\n",
        "                Booked_ticket_Person[Row_number-1][Column_number-1] = person_detail     # Here we are storing the information of person\n",
        "                print('Booked Successfully,Thank you! Enjoy your time!:) Here are the details',person_detail)                              # So that this seat can not be booked by anybody else\n",
        "            else:\n",
        "                print('This seat already booked by some one, check other available seats from chart')  # If user tries to book a sheet that is already\n",
        "        else:                                                                                          # booked this message will be returned\n",
        "            print()\n",
        "            print('***  Invalid Input  ***')\n",
        "        print()\n",
        "    \n"
      ],
      "metadata": {
        "colab": {
          "base_uri": "https://localhost:8080/"
        },
        "id": "tUw6lDSYtlSE",
        "outputId": "7497a682-2163-4303-c6d0-fc7b33a21568"
      },
      "execution_count": null,
      "outputs": [
        {
          "name": "stdout",
          "output_type": "stream",
          "text": [
            "Enter number of Row - \n",
            "4\n",
            "Enter number of seats in a Row - \n",
            "4\n",
            "1 for Show the seats \n",
            "2 for Buy a Ticket\n",
            "0 for Exit\n",
            "Select Option :) 1\n",
            "0  1  2  3  4\n",
            "1  S  S  S  S  \n",
            "2  S  S  S  S  \n",
            "3  S  S  S  S  \n",
            "4  S  S  S  S  \n",
            "Vacant Seats =  16\n",
            "\n",
            "1 for Show the seats \n",
            "2 for Buy a Ticket\n",
            "0 for Exit\n",
            "Select Option :) 2\n",
            "Enter Row Number - \n",
            "3\n",
            "Enter Column Number - \n",
            "2\n",
            "yes for booking and no for Stop booking - yes\n",
            "Enter Name - umesh\n",
            "Enter Gender - male\n",
            "Enter Age - 23\n",
            "Booked Successfully,Thank you! Enjoy your time!:) Here are the details {'Name': 'umesh', 'Gender': 'male', 'Age': '23'}\n",
            "\n",
            "1 for Show the seats \n",
            "2 for Buy a Ticket\n",
            "0 for Exit\n",
            "Select Option :) 0\n"
          ]
        }
      ]
    },
    {
      "cell_type": "code",
      "source": [
        ""
      ],
      "metadata": {
        "id": "AO3OR1ar0pox"
      },
      "execution_count": null,
      "outputs": []
    }
  ]
}